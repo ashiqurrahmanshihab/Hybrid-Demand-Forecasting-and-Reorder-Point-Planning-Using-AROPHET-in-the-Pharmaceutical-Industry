{
 "cells": [
  {
   "cell_type": "markdown",
   "id": "3455e4df",
   "metadata": {},
   "source": [
    "# Hybrid Demand Forecasting and ROP Planning for Alton 20"
   ]
  },
  {
   "cell_type": "code",
   "execution_count": 4,
   "id": "c15831e6",
   "metadata": {},
   "outputs": [],
   "source": [
    "import pandas as pd\n",
    "import numpy as np\n",
    "from prophet import Prophet\n",
    "from statsmodels.tsa.arima.model import ARIMA\n",
    "from sklearn.metrics import mean_absolute_error, mean_squared_error, r2_score\n",
    "import matplotlib.pyplot as plt\n",
    "\n"
   ]
  },
  {
   "cell_type": "code",
   "execution_count": 9,
   "id": "2f2277ea",
   "metadata": {},
   "outputs": [
    {
     "data": {
      "text/html": [
       "<div>\n",
       "<style scoped>\n",
       "    .dataframe tbody tr th:only-of-type {\n",
       "        vertical-align: middle;\n",
       "    }\n",
       "\n",
       "    .dataframe tbody tr th {\n",
       "        vertical-align: top;\n",
       "    }\n",
       "\n",
       "    .dataframe thead th {\n",
       "        text-align: right;\n",
       "    }\n",
       "</style>\n",
       "<table border=\"1\" class=\"dataframe\">\n",
       "  <thead>\n",
       "    <tr style=\"text-align: right;\">\n",
       "      <th></th>\n",
       "      <th>ds</th>\n",
       "      <th>y</th>\n",
       "      <th>marketing_spend</th>\n",
       "      <th>doctor_visits</th>\n",
       "      <th>disease_trend</th>\n",
       "      <th>stock_level</th>\n",
       "      <th>lead_time_days</th>\n",
       "      <th>safety_stock</th>\n",
       "      <th>shelf_life_months</th>\n",
       "      <th>MOQ</th>\n",
       "    </tr>\n",
       "  </thead>\n",
       "  <tbody>\n",
       "    <tr>\n",
       "      <th>0</th>\n",
       "      <td>2014-01-01</td>\n",
       "      <td>1187.000000</td>\n",
       "      <td>892</td>\n",
       "      <td>5048</td>\n",
       "      <td>346</td>\n",
       "      <td>6889</td>\n",
       "      <td>14</td>\n",
       "      <td>500</td>\n",
       "      <td>36</td>\n",
       "      <td>3000</td>\n",
       "    </tr>\n",
       "    <tr>\n",
       "      <th>1</th>\n",
       "      <td>2014-02-01</td>\n",
       "      <td>1332.860756</td>\n",
       "      <td>1555</td>\n",
       "      <td>4613</td>\n",
       "      <td>395</td>\n",
       "      <td>6701</td>\n",
       "      <td>7</td>\n",
       "      <td>1000</td>\n",
       "      <td>12</td>\n",
       "      <td>3000</td>\n",
       "    </tr>\n",
       "    <tr>\n",
       "      <th>2</th>\n",
       "      <td>2014-03-01</td>\n",
       "      <td>1342.644005</td>\n",
       "      <td>1301</td>\n",
       "      <td>5012</td>\n",
       "      <td>230</td>\n",
       "      <td>6291</td>\n",
       "      <td>14</td>\n",
       "      <td>1000</td>\n",
       "      <td>12</td>\n",
       "      <td>2000</td>\n",
       "    </tr>\n",
       "    <tr>\n",
       "      <th>3</th>\n",
       "      <td>2014-04-01</td>\n",
       "      <td>1407.575042</td>\n",
       "      <td>1755</td>\n",
       "      <td>5248</td>\n",
       "      <td>328</td>\n",
       "      <td>5841</td>\n",
       "      <td>14</td>\n",
       "      <td>500</td>\n",
       "      <td>36</td>\n",
       "      <td>1000</td>\n",
       "    </tr>\n",
       "    <tr>\n",
       "      <th>4</th>\n",
       "      <td>2014-05-01</td>\n",
       "      <td>1386.842733</td>\n",
       "      <td>1262</td>\n",
       "      <td>5725</td>\n",
       "      <td>267</td>\n",
       "      <td>7576</td>\n",
       "      <td>7</td>\n",
       "      <td>500</td>\n",
       "      <td>12</td>\n",
       "      <td>1000</td>\n",
       "    </tr>\n",
       "  </tbody>\n",
       "</table>\n",
       "</div>"
      ],
      "text/plain": [
       "          ds            y  marketing_spend  doctor_visits  disease_trend  \\\n",
       "0 2014-01-01  1187.000000              892           5048            346   \n",
       "1 2014-02-01  1332.860756             1555           4613            395   \n",
       "2 2014-03-01  1342.644005             1301           5012            230   \n",
       "3 2014-04-01  1407.575042             1755           5248            328   \n",
       "4 2014-05-01  1386.842733             1262           5725            267   \n",
       "\n",
       "   stock_level  lead_time_days  safety_stock  shelf_life_months   MOQ  \n",
       "0         6889              14           500                 36  3000  \n",
       "1         6701               7          1000                 12  3000  \n",
       "2         6291              14          1000                 12  2000  \n",
       "3         5841              14           500                 36  1000  \n",
       "4         7576               7           500                 12  1000  "
      ]
     },
     "execution_count": 9,
     "metadata": {},
     "output_type": "execute_result"
    }
   ],
   "source": [
    "import pandas as pd\n",
    "\n",
    "# Define the file path\n",
    "file_path = \"/Users/ashikurrahmanshihab/GitHub/Hybrid-Demand-Forecasting-and-Reorder-Point-Planning-Using-AROPHET-in-the-Pharmaceutical-Industry/data.xlsx\"\n",
    "\n",
    "# Read the Excel file (adjust sheet name if needed)\n",
    "sales_data = pd.read_excel(file_path)\n",
    "\n",
    "# Show the first 5 rows\n",
    "sales_data.head()\n"
   ]
  },
  {
   "cell_type": "code",
   "execution_count": 10,
   "id": "cfbd05c9",
   "metadata": {},
   "outputs": [
    {
     "name": "stderr",
     "output_type": "stream",
     "text": [
      "02:18:58 - cmdstanpy - INFO - Chain [1] start processing\n",
      "02:18:58 - cmdstanpy - INFO - Chain [1] done processing\n"
     ]
    },
    {
     "data": {
      "text/plain": [
       "<prophet.forecaster.Prophet at 0x10a78d580>"
      ]
     },
     "execution_count": 10,
     "metadata": {},
     "output_type": "execute_result"
    }
   ],
   "source": [
    "\n",
    "# Set up Prophet model with regressors\n",
    "m = Prophet()\n",
    "m.add_regressor('marketing_spend')\n",
    "m.add_regressor('doctor_visits')\n",
    "m.add_regressor('disease_trend')\n",
    "m.add_regressor('stock_level')\n",
    "\n",
    "# Fit model\n",
    "m.fit(sales_data.rename(columns={\"ds\": \"ds\", \"y\": \"y\"}))\n"
   ]
  },
  {
   "cell_type": "code",
   "execution_count": null,
   "id": "44de55b0",
   "metadata": {},
   "outputs": [],
   "source": [
    "\n",
    "future = m.make_future_dataframe(periods=12, freq='MS')\n",
    "future = pd.merge(future, sales_data, on='ds', how='left')\n",
    "\n",
    "# Fill future regressor values (naive method: forward fill)\n",
    "for col in ['marketing_spend', 'doctor_visits', 'disease_trend', 'stock_level']:\n",
    "    future[col] = future[col].ffill()\n",
    "\n",
    "forecast = m.predict(future)\n",
    "m.plot(forecast)\n",
    "plt.show()\n"
   ]
  },
  {
   "cell_type": "code",
   "execution_count": null,
   "id": "fce48a35",
   "metadata": {},
   "outputs": [],
   "source": [
    "\n",
    "# Calculate residuals\n",
    "sales_data['forecast'] = m.predict(sales_data)['yhat']\n",
    "sales_data['residuals'] = sales_data['y'] - sales_data['forecast']\n",
    "\n",
    "# Fit ARIMA on residuals\n",
    "model_arima = ARIMA(sales_data['residuals'], order=(1,0,1))\n",
    "model_arima_fit = model_arima.fit()\n",
    "\n",
    "# Forecast residuals\n",
    "arima_forecast = model_arima_fit.forecast(steps=12)\n"
   ]
  },
  {
   "cell_type": "code",
   "execution_count": null,
   "id": "263d0708",
   "metadata": {},
   "outputs": [],
   "source": [
    "\n",
    "# Combine Prophet + ARIMA (hybrid)\n",
    "final_forecast = forecast.tail(12).copy()\n",
    "final_forecast['yhat_hybrid'] = final_forecast['yhat'] + arima_forecast.values\n",
    "\n",
    "# Plot\n",
    "plt.figure(figsize=(10,6))\n",
    "plt.plot(sales_data['ds'], sales_data['y'], label='Actual')\n",
    "plt.plot(final_forecast['ds'], final_forecast['yhat_hybrid'], label='Hybrid Forecast')\n",
    "plt.legend()\n",
    "plt.show()\n"
   ]
  },
  {
   "cell_type": "code",
   "execution_count": null,
   "id": "2800cd41",
   "metadata": {},
   "outputs": [],
   "source": [
    "\n",
    "# Simple ROP = demand during lead time + safety stock\n",
    "avg_lead_time = sales_data['lead_time_days'].mean()\n",
    "daily_demand = sales_data['y'].mean() / 30  # crude estimate\n",
    "\n",
    "ROP = avg_lead_time * daily_demand + sales_data['safety_stock'].mean()\n",
    "print(f\"Recommended Reorder Point (ROP): {ROP:.2f} units\")\n"
   ]
  }
 ],
 "metadata": {
  "kernelspec": {
   "display_name": "Python 3",
   "language": "python",
   "name": "python3"
  },
  "language_info": {
   "codemirror_mode": {
    "name": "ipython",
    "version": 3
   },
   "file_extension": ".py",
   "mimetype": "text/x-python",
   "name": "python",
   "nbconvert_exporter": "python",
   "pygments_lexer": "ipython3",
   "version": "3.9.6"
  }
 },
 "nbformat": 4,
 "nbformat_minor": 5
}
