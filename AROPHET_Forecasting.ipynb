{
 "cells": [
  {
   "cell_type": "code",
   "execution_count": null,
   "id": "ea106130",
   "metadata": {},
   "outputs": [],
   "source": [
    "import pandas as pd\n",
    "import numpy as np\n",
    "from prophet import Prophet\n",
    "from statsmodels.tsa.arima.model import ARIMA\n",
    "from sklearn.metrics import mean_absolute_error, mean_squared_error, r2_score\n",
    "import matplotlib.pyplot as plt\n",
    "\n",
    "# Load your Excel file into df\n",
    "file_path = \"/Users/ashikurrahmanshihab/GitHub/Hybrid-Demand-Forecasting-and-Reorder-Point-Planning-Using-AROPHET-in-the-Pharmaceutical-Industry/Alton_20_Sales Data.xlsx\"\n",
    "df = pd.read_excel(file_path)"
   ]
  },
  {
   "cell_type": "code",
   "execution_count": null,
   "id": "d6cd9ade",
   "metadata": {},
   "outputs": [],
   "source": [
    "# --- Step 1: Data Preparation ---\n",
    "df_clean = df.copy()\n",
    "if df_clean.iloc[0, 0] == \"Month\":\n",
    "    df_clean = df_clean.iloc[1:].reset_index(drop=True)\n",
    "df_clean.columns = ['ds', 'y']\n",
    "df_clean['y'] = df_clean['y'].astype(str).str.replace(r'[^0-9]', '', regex=True).replace('', np.nan).astype(float)\n",
    "df_clean['ds'] = pd.to_datetime(df_clean['ds'])\n",
    "df_clean = df_clean.sort_values('ds').reset_index(drop=True)"
   ]
  },
  {
   "cell_type": "code",
   "execution_count": null,
   "id": "06d0b85c",
   "metadata": {},
   "outputs": [],
   "source": [
    "# --- Step 2: Forecasting with Prophet ---\n",
    "model = Prophet(yearly_seasonality=True)\n",
    "model.fit(df_clean)\n",
    "future = model.make_future_dataframe(periods=12, freq='MS')\n",
    "forecast = model.predict(future)\n",
    "forecast_2025 = forecast[forecast['ds'].dt.year == 2025].copy()"
   ]
  },
  {
   "cell_type": "code",
   "execution_count": null,
   "id": "79ab0d02",
   "metadata": {},
   "outputs": [],
   "source": [
    "# --- Step 3: Bootstrapped Confidence Intervals ---\n",
    "df_with_yhat = pd.merge(df_clean, forecast[['ds', 'yhat']], on='ds')\n",
    "df_with_yhat['residual'] = df_with_yhat['y'] - df_with_yhat['yhat']\n",
    "residuals = df_with_yhat['residual'].values\n",
    "\n",
    "boot_samples = []\n",
    "for _ in range(1000):\n",
    "    sampled_residuals = np.random.choice(residuals, size=12, replace=True)\n",
    "    simulated = forecast_2025['yhat'].values + sampled_residuals\n",
    "    boot_samples.append(simulated)\n",
    "boot_array = np.array(boot_samples)\n",
    "forecast_2025['boot_lower'] = np.percentile(boot_array, 2.5, axis=0)\n",
    "forecast_2025['boot_upper'] = np.percentile(boot_array, 97.5, axis=0)\n",
    "forecast_2025['boot_median'] = np.percentile(boot_array, 50, axis=0)"
   ]
  },
  {
   "cell_type": "code",
   "execution_count": null,
   "id": "498f2bae",
   "metadata": {},
   "outputs": [],
   "source": [
    "# --- Step 4: Dynamic ROP Calculation (Prophet) ---\n",
    "k = 1.0  # risk aversion parameter\n",
    "forecast_2025['prophet_rop'] = forecast_2025['boot_median'] + k * (forecast_2025['boot_upper'] - forecast_2025['boot_median'])"
   ]
  },
  {
   "cell_type": "code",
   "execution_count": null,
   "id": "1a1500bb",
   "metadata": {},
   "outputs": [],
   "source": [
    "# --- Step 5: Forecast Error Calculation (Residual Analysis) ---\n",
    "# Already done above as 'residuals'"
   ]
  },
  {
   "cell_type": "code",
   "execution_count": null,
   "id": "b624eed3",
   "metadata": {},
   "outputs": [],
   "source": [
    "# --- Step 6: Residual Modeling with ARIMA ---\n",
    "arima_model = ARIMA(df_with_yhat['residual'], order=(1,0,0)).fit()\n",
    "arima_pred = arima_model.forecast(steps=12)\n",
    "forecast_2025['arima_correction'] = arima_pred.values"
   ]
  },
  {
   "cell_type": "code",
   "execution_count": null,
   "id": "5a515314",
   "metadata": {},
   "outputs": [],
   "source": [
    "# --- Step 7: Hybrid Forecast Using AROPHET ---\n",
    "forecast_2025['arophet'] = forecast_2025['yhat'] + forecast_2025['arima_correction']"
   ]
  },
  {
   "cell_type": "code",
   "execution_count": null,
   "id": "f3795b5e",
   "metadata": {},
   "outputs": [],
   "source": [
    "# --- Step 8: Final Dynamic ROP Using AROPHET ---\n",
    "boot_arophet_samples = []\n",
    "for _ in range(1000):\n",
    "    boot_resid = np.random.choice(residuals, size=12, replace=True)\n",
    "    sim = forecast_2025['arophet'].values + boot_resid\n",
    "    boot_arophet_samples.append(sim)\n",
    "boot_arophet_array = np.array(boot_arophet_samples)\n",
    "forecast_2025['arophet_lower'] = np.percentile(boot_arophet_array, 2.5, axis=0)\n",
    "forecast_2025['arophet_upper'] = np.percentile(boot_arophet_array, 97.5, axis=0)\n",
    "forecast_2025['arophet_median'] = np.percentile(boot_arophet_array, 50, axis=0)\n",
    "forecast_2025['arophet_rop'] = forecast_2025['arophet_median'] + k * (forecast_2025['arophet_upper'] - forecast_2025['arophet_median'])"
   ]
  },
  {
   "cell_type": "code",
   "execution_count": null,
   "id": "0bbafdac",
   "metadata": {},
   "outputs": [],
   "source": [
    "# --- Step 9: Forecast Accuracy Comparison ---\n",
    "# Evaluate on available historical data (2023-2024)\n",
    "actual = df_clean['y'].values\n",
    "prophet_pred = forecast.loc[forecast['ds'].isin(df_clean['ds']), 'yhat'].values\n",
    "arima_correction_hist = arima_model.predict(start=0, end=len(df_clean)-1)\n",
    "arophet_pred = prophet_pred + arima_correction_hist\n",
    "\n",
    "def mape(y_true, y_pred):\n",
    "    return np.mean(np.abs((y_true - y_pred) / y_true)) * 100\n",
    "\n",
    "metrics = {\n",
    "    'Model': ['Prophet', 'AROPHET'],\n",
    "    'MAE': [\n",
    "        mean_absolute_error(actual, prophet_pred),\n",
    "        mean_absolute_error(actual, arophet_pred)\n",
    "    ],\n",
    "    'RMSE': [\n",
    "        np.sqrt(mean_squared_error(actual, prophet_pred)),\n",
    "        np.sqrt(mean_squared_error(actual, arophet_pred))\n",
    "    ],\n",
    "    'MAPE': [\n",
    "        mape(actual, prophet_pred),\n",
    "        mape(actual, arophet_pred)\n",
    "    ],\n",
    "    'R2': [\n",
    "        r2_score(actual, prophet_pred),\n",
    "        r2_score(actual, arophet_pred)\n",
    "    ]\n",
    "}\n",
    "accuracy_df = pd.DataFrame(metrics)"
   ]
  },
  {
   "cell_type": "code",
   "execution_count": null,
   "id": "5af6e837",
   "metadata": {},
   "outputs": [],
   "source": [
    "# --- Prophet Forecast Plot with Error Bars ---\n",
    "plt.figure(figsize=(12, 5))\n",
    "plt.plot(df_clean['ds'], df_clean['y'], label='Actual', marker='o')\n",
    "plt.plot(forecast['ds'], forecast['yhat'], label='Prophet Forecast', linestyle='--')\n",
    "plt.fill_between(forecast['ds'], forecast['yhat_lower'], forecast['yhat_upper'], color='blue', alpha=0.2, label='Prophet CI')\n",
    "plt.errorbar(forecast['ds'], forecast['yhat'], \n",
    "             yerr=[forecast['yhat']-forecast['yhat_lower'], forecast['yhat_upper']-forecast['yhat']], \n",
    "             fmt='none', ecolor='blue', alpha=0.3)\n",
    "plt.title('Prophet Forecast vs Actual (with Error Bars)')\n",
    "plt.xlabel('Date')\n",
    "plt.ylabel('Sales')\n",
    "plt.legend()\n",
    "plt.grid(True)\n",
    "plt.tight_layout()\n",
    "plt.show()"
   ]
  },
  {
   "cell_type": "code",
   "execution_count": null,
   "id": "967b6f02",
   "metadata": {},
   "outputs": [],
   "source": [
    "# --- ARIMA Residual Correction Plot ---\n",
    "plt.figure(figsize=(12, 5))\n",
    "plt.plot(df_with_yhat['ds'], df_with_yhat['residual'], label='Prophet Residuals', marker='o')\n",
    "plt.plot(pd.date_range(df_with_yhat['ds'].iloc[-1], periods=13, freq='MS')[1:], arima_pred, label='ARIMA Correction (2025)', linestyle='--')\n",
    "plt.title('ARIMA Residual Correction')\n",
    "plt.xlabel('Date')\n",
    "plt.ylabel('Residual / Correction')\n",
    "plt.legend()\n",
    "plt.grid(True)\n",
    "plt.tight_layout()\n",
    "plt.show()"
   ]
  },
  {
   "cell_type": "code",
   "execution_count": null,
   "id": "ea3773b9",
   "metadata": {},
   "outputs": [],
   "source": [
    "# --- AROPHET Hybrid Forecast Plot with Error Bars ---\n",
    "plt.figure(figsize=(12, 5))\n",
    "plt.plot(df_clean['ds'], df_clean['y'], label='Actual', marker='o')\n",
    "plt.plot(forecast_2025['ds'], forecast_2025['arophet_median'], label='AROPHET Forecast', linestyle='-')\n",
    "plt.fill_between(forecast_2025['ds'], forecast_2025['arophet_lower'], forecast_2025['arophet_upper'], color='gray', alpha=0.2, label='AROPHET CI')\n",
    "plt.errorbar(forecast_2025['ds'], forecast_2025['arophet_median'], \n",
    "             yerr=[forecast_2025['arophet_median']-forecast_2025['arophet_lower'], forecast_2025['arophet_upper']-forecast_2025['arophet_median']], \n",
    "             fmt='none', ecolor='gray', alpha=0.3)\n",
    "plt.title('AROPHET Hybrid Forecast (with Error Bars)')\n",
    "plt.xlabel('Date')\n",
    "plt.ylabel('Sales')\n",
    "plt.legend()\n",
    "plt.grid(True)\n",
    "plt.tight_layout()\n",
    "plt.show()"
   ]
  },
  {
   "cell_type": "code",
   "execution_count": null,
   "id": "4b1fe42f",
   "metadata": {},
   "outputs": [],
   "source": [
    "# --- ROP Comparison Plot ---\n",
    "plt.figure(figsize=(12, 5))\n",
    "plt.plot(forecast_2025['ds'], forecast_2025['prophet_rop'], label='Prophet ROP', linestyle='--')\n",
    "plt.plot(forecast_2025['ds'], forecast_2025['arophet_rop'], label='AROPHET ROP', linestyle='-')\n",
    "plt.title('ROP Comparison: Prophet vs AROPHET')\n",
    "plt.xlabel('Date')\n",
    "plt.ylabel('ROP')\n",
    "plt.legend()\n",
    "plt.grid(True)\n",
    "plt.tight_layout()\n",
    "plt.show()"
   ]
  },
  {
   "cell_type": "code",
   "execution_count": null,
   "id": "8a7092a1",
   "metadata": {},
   "outputs": [],
   "source": [
    "# --- Forecast Errors Plot ---\n",
    "prophet_errors = actual - prophet_pred\n",
    "arophet_errors = actual - arophet_pred\n",
    "plt.figure(figsize=(12, 5))\n",
    "plt.plot(df_clean['ds'], prophet_errors, label='Prophet Errors', marker='o')\n",
    "plt.plot(df_clean['ds'], arophet_errors, label='AROPHET Errors', marker='o')\n",
    "plt.axhline(0, color='black', linestyle='--', linewidth=1)\n",
    "plt.title('Forecast Errors: Actual - Predicted')\n",
    "plt.xlabel('Date')\n",
    "plt.ylabel('Error')\n",
    "plt.legend()\n",
    "plt.grid(True)\n",
    "plt.tight_layout()\n",
    "plt.show()"
   ]
  },
  {
   "cell_type": "code",
   "execution_count": null,
   "id": "f0ce011d",
   "metadata": {},
   "outputs": [],
   "source": [
    "# --- Rolling Metrics Plot (e.g., Rolling MAE) ---\n",
    "window = 6\n",
    "rolling_mae_prophet = pd.Series(np.abs(prophet_errors)).rolling(window).mean()\n",
    "rolling_mae_arophet = pd.Series(np.abs(arophet_errors)).rolling(window).mean()\n",
    "plt.figure(figsize=(12, 5))\n",
    "plt.plot(df_clean['ds'], rolling_mae_prophet, label=f'Prophet Rolling MAE ({window} months)')\n",
    "plt.plot(df_clean['ds'], rolling_mae_arophet, label=f'AROPHET Rolling MAE ({window} months)')\n",
    "plt.title('Rolling MAE Comparison')\n",
    "plt.xlabel('Date')\n",
    "plt.ylabel('Rolling MAE')\n",
    "plt.legend()\n",
    "plt.grid(True)\n",
    "plt.tight_layout()\n",
    "plt.show()"
   ]
  },
  {
   "cell_type": "code",
   "execution_count": null,
   "id": "92b71b84",
   "metadata": {},
   "outputs": [],
   "source": [
    "# --- (Optional) Interactive Plotly Plot ---\n",
    "# import plotly.express as px\n",
    "# fig = px.line(df_clean, x='ds', y='y', title='Actual Sales (Interactive)')\n",
    "# fig.add_scatter(x=forecast['ds'], y=forecast['yhat'], mode='lines', name='Prophet Forecast')\n",
    "# fig.show()"
   ]
  },
  {
   "cell_type": "code",
   "execution_count": null,
   "id": "87bc2892",
   "metadata": {},
   "outputs": [],
   "source": [
    "# --- Step 10: Visualization and Interpretation ---\n",
    "plt.figure(figsize=(14, 6))\n",
    "plt.plot(df_clean['ds'], df_clean['y'], label='Actual', marker='o')\n",
    "plt.plot(forecast_2025['ds'], forecast_2025['boot_median'], label='Prophet Forecast', linestyle='--')\n",
    "plt.plot(forecast_2025['ds'], forecast_2025['arophet_median'], label='AROPHET Forecast', linestyle='-')\n",
    "plt.plot(forecast_2025['ds'], forecast_2025['prophet_rop'], label='Prophet ROP', linestyle='--')\n",
    "plt.plot(forecast_2025['ds'], forecast_2025['arophet_rop'], label='AROPHET ROP', linestyle='-')\n",
    "plt.fill_between(forecast_2025['ds'], forecast_2025['arophet_lower'], forecast_2025['arophet_upper'], color='gray', alpha=0.2, label='AROPHET CI')\n",
    "plt.title(\"Forecast and ROP Comparison (Prophet vs AROPHET)\")\n",
    "plt.xlabel(\"Month\")\n",
    "plt.ylabel(\"Sales Quantity / ROP\")\n",
    "plt.legend()\n",
    "plt.grid(True)\n",
    "plt.tight_layout()\n",
    "plt.show()"
   ]
  },
  {
   "cell_type": "code",
   "execution_count": null,
   "id": "9d22256f",
   "metadata": {},
   "outputs": [],
   "source": [
    "# Residual diagnostics\n",
    "from statsmodels.graphics.tsaplots import plot_acf, plot_pacf\n",
    "from statsmodels.stats.diagnostic import acorr_ljungbox\n",
    "\n",
    "plt.figure(figsize=(12,4))\n",
    "plt.subplot(1,2,1)\n",
    "plot_acf(df_with_yhat['residual'], lags=12, ax=plt.gca())\n",
    "plt.title('Residual ACF')\n",
    "plt.subplot(1,2,2)\n",
    "plot_pacf(df_with_yhat['residual'], lags=12, ax=plt.gca())\n",
    "plt.title('Residual PACF')\n",
    "plt.tight_layout()\n",
    "plt.show()\n",
    "\n",
    "lb_test = acorr_ljungbox(df_with_yhat['residual'], lags=[12], return_df=True)\n",
    "print(\"Ljung-Box test p-value (lag 12):\", lb_test['lb_pvalue'].values[0])"
   ]
  },
  {
   "cell_type": "code",
   "execution_count": null,
   "id": "e6374c0b",
   "metadata": {},
   "outputs": [],
   "source": [
    "# Show accuracy table and result table\n",
    "print(\"Forecast Accuracy Comparison:\")\n",
    "print(accuracy_df)\n",
    "print(\"\\n2025 Forecast Table:\")\n",
    "print(forecast_2025[['ds', 'boot_median', 'prophet_rop', 'arophet_median', 'arophet_rop']])"
   ]
  }
 ],
 "metadata": {},
 "nbformat": 4,
 "nbformat_minor": 5
}
